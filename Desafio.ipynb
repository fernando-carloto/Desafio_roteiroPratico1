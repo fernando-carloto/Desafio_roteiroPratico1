{
  "nbformat": 4,
  "nbformat_minor": 0,
  "metadata": {
    "colab": {
      "provenance": [],
      "authorship_tag": "ABX9TyPeswzWMDHsAclPpGULJsJD",
      "include_colab_link": true
    },
    "kernelspec": {
      "name": "python3",
      "display_name": "Python 3"
    },
    "language_info": {
      "name": "python"
    }
  },
  "cells": [
    {
      "cell_type": "markdown",
      "metadata": {
        "id": "view-in-github",
        "colab_type": "text"
      },
      "source": [
        "<a href=\"https://colab.research.google.com/github/fernando-carloto/Desafio_roteiroPratico1/blob/main/Desafio.ipynb\" target=\"_parent\"><img src=\"https://colab.research.google.com/assets/colab-badge.svg\" alt=\"Open In Colab\"/></a>"
      ]
    },
    {
      "cell_type": "code",
      "source": [
        "nome = \"Fernando\"\n",
        "idade = 22\n",
        "cidade = \"São Bernardo do Campo\"\n",
        "\n",
        "print(\"Olá, meu nome é \" + nome + \", eu tenho \" + str(idade) + \" anos e moro em \" + cidade + \".\")"
      ],
      "metadata": {
        "id": "spUez5GWAz20",
        "colab": {
          "base_uri": "https://localhost:8080/"
        },
        "outputId": "8d8634d3-59d7-404a-f96b-9a2e57dee490"
      },
      "execution_count": null,
      "outputs": [
        {
          "output_type": "stream",
          "name": "stdout",
          "text": [
            "Olá, meu nome é Fernando, eu tenho 22 anos e moro em São Bernardo do Campo.\n"
          ]
        }
      ]
    },
    {
      "cell_type": "code",
      "source": [
        "numeros = [10, 20, 30, 40, 50]\n",
        "soma = sum(numeros)\n",
        "media = soma / len(numeros)\n",
        "print(\"A média dos números é:\", media)"
      ],
      "metadata": {
        "id": "MLEM37eRCW2V",
        "colab": {
          "base_uri": "https://localhost:8080/"
        },
        "outputId": "93252794-9f4d-49e5-8497-4583fe2705a0"
      },
      "execution_count": null,
      "outputs": [
        {
          "output_type": "stream",
          "name": "stdout",
          "text": [
            "A média dos números é: 30.0\n"
          ]
        }
      ]
    },
    {
      "cell_type": "code",
      "source": [
        "gastosj = [300, 500, 200, 800]\n",
        "gastosp = [200, 400, 500, 700]\n",
        "somaj = sum(gastosj)\n",
        "somap = sum(gastosp)\n",
        "gastosmax = max(somaj, somap)\n",
        "gastosj = [300, 500, 200, 800]\n",
        "gastosp = [200, 400, 500, 700]\n",
        "somaj = sum(gastosj)\n",
        "somap = sum(gastosp)\n",
        "if somaj > somap:\n",
        "    print(\"O maior gasto no mês foi o gasto de João.\")\n",
        "elif somaj < somap:\n",
        "    print(\"O maior gasto no mês foi o gasto de Pedro.\")\n",
        "else:\n",
        "    print(\"Os gastos de João e Pedro foram iguais.\")"
      ],
      "metadata": {
        "id": "nvpeOAljGN7n",
        "colab": {
          "base_uri": "https://localhost:8080/"
        },
        "outputId": "d2520d7e-c688-4390-a05a-e3375800b3ca"
      },
      "execution_count": null,
      "outputs": [
        {
          "output_type": "stream",
          "name": "stdout",
          "text": [
            "Os gastos de João e Pedro foram iguais.\n"
          ]
        }
      ]
    }
  ]
}